{
 "cells": [
  {
   "cell_type": "code",
   "execution_count": 7,
   "id": "146d168f",
   "metadata": {},
   "outputs": [],
   "source": [
    "import torch\n",
    "import clip\n",
    "from PIL import Image\n",
    "import glob\n",
    "import pandas as pd\n",
    "import matplotlib.pyplot as plt\n",
    "import matplotlib.image as img\n",
    "\n",
    "\n",
    "device = \"cuda\" if torch.cuda.is_available() else \"cpu\"\n",
    "model, preprocess = clip.load(\"ViT-B/32\", device=device)\n",
    "\n",
    "STATIC = 'F:\\FSEP\\Search Engine\\static'\n",
    "\n",
    "\n",
    "def preprocess_text(text):\n",
    "    return clip.tokenize(text).to(device)\n",
    "\n",
    "def encode_text(tokenized_text):\n",
    "    text_features = model.encode_text(tokenized_text)\n",
    "    # text_features /= text_features.norm(dim=-1, keepdim=True)\n",
    "    return text_features\n",
    "\n",
    "def preprocess_image(path):\n",
    "    return preprocess(Image.open(path)).unsqueeze(0).to(device)\n",
    "\n",
    "def encode_image(preprocessed_image):\n",
    "    image_features = model.encode_image(preprocessed_image).detach().numpy()\n",
    "    # image_features /= image_features.norm(dim=-1, keepdim=True)\n",
    "    return image_features\n",
    " \n",
    "def find_similarity(text_features, image_features):\n",
    "    image_features = torch.from_numpy(image_features)\n",
    "    similarity = image_features @ text_features.T\n",
    "    return similarity[0][0].detach().numpy()\n",
    "\n",
    "def create_image_embedding():\n",
    "    paths = glob.glob(STATIC + \"\\*.jpeg\") + glob.glob(STATIC + \"\\*.jpg\")\n",
    "    df = pd.DataFrame()\n",
    "    df['path'] = paths\n",
    "    encoded_list = []\n",
    "    for path in paths:\n",
    "        preprocessed_image = preprocess_image(path)\n",
    "        #encoded_image = encode_image(preprocessed_image)\n",
    "        encoded_list.append(encode_image(preprocessed_image))\n",
    "        #images_dict[path] = find_similarity(search_for, encoded_image)\n",
    "        \n",
    "    df['embedding'] = encoded_list\n",
    "    return df"
   ]
  },
  {
   "cell_type": "code",
   "execution_count": 8,
   "id": "56151ab9",
   "metadata": {},
   "outputs": [
    {
     "name": "stdout",
     "output_type": "stream",
     "text": [
      "Search for: bee\n",
      "F:\\FSEP\\Search Engine\\static\\bee white.jpg\n",
      "F:\\FSEP\\Search Engine\\static\\bee pink.jpg\n"
     ]
    }
   ],
   "source": [
    "query = input(\"Search for: \")\n",
    "\n",
    "search_for = preprocess_text(query)\n",
    "search_for = encode_text(search_for)\n",
    "\n",
    "df = create_image_embedding()\n",
    "df['similarity'] = [find_similarity(search_for, embedded_image) for embedded_image in df['embedding']]\n",
    "\n",
    "# print(df)\n",
    "df = df.sort_values('similarity', ascending=False)\n",
    "df\n",
    "# displaying top two results\n",
    "for i in df['path'][0:2]:\n",
    "    print(i)\n",
    "\n",
    "    "
   ]
  },
  {
   "cell_type": "code",
   "execution_count": null,
   "id": "27af457f",
   "metadata": {},
   "outputs": [],
   "source": []
  }
 ],
 "metadata": {
  "kernelspec": {
   "display_name": "Python 3 (ipykernel)",
   "language": "python",
   "name": "python3"
  },
  "language_info": {
   "codemirror_mode": {
    "name": "ipython",
    "version": 3
   },
   "file_extension": ".py",
   "mimetype": "text/x-python",
   "name": "python",
   "nbconvert_exporter": "python",
   "pygments_lexer": "ipython3",
   "version": "3.7.9"
  }
 },
 "nbformat": 4,
 "nbformat_minor": 5
}
